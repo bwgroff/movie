{
 "cells": [
  {
   "cell_type": "code",
   "execution_count": 1,
   "metadata": {
    "collapsed": false
   },
   "outputs": [],
   "source": [
    "import pymongo\n",
    "from string import ascii_letters, whitespace\n",
    "from collections import defaultdict, Counter\n",
    "import pickle"
   ]
  },
  {
   "cell_type": "code",
   "execution_count": 18,
   "metadata": {
    "collapsed": false
   },
   "outputs": [],
   "source": [
    "ascii_set = set(ascii_letters)\n",
    "allowed_chars = ascii_set.union(set(whitespace))"
   ]
  },
  {
   "cell_type": "code",
   "execution_count": 19,
   "metadata": {
    "collapsed": true
   },
   "outputs": [],
   "source": [
    "c = pymongo.MongoClient().movie.cocaine2"
   ]
  },
  {
   "cell_type": "code",
   "execution_count": 20,
   "metadata": {
    "collapsed": true
   },
   "outputs": [],
   "source": [
    "def normalize_text(text):\n",
    "    text_ascii = filter(lambda x: x in allowed_chars, text)\n",
    "    text_ascii_lower = text_ascii.lower()\n",
    "    return text_ascii_lower\n",
    "\n",
    "def process_document(doc, per_article = True):\n",
    "    content = normalize_text(doc[\"ocr_eng\"]).split()\n",
    "    if per_article:\n",
    "        content = set(content)\n",
    "    title = normalize_text(doc[\"title\"]).split()\n",
    "    year = doc[\"date\"].year\n",
    "    month = doc[\"date\"].month\n",
    "    output = {\"year\": year, \"month\": month, \"content\": content, \"title\":title}\n",
    "    return output"
   ]
  },
  {
   "cell_type": "code",
   "execution_count": 21,
   "metadata": {
    "collapsed": true
   },
   "outputs": [],
   "source": [
    "year_word_matrix = defaultdict(lambda: defaultdict(int))"
   ]
  },
  {
   "cell_type": "code",
   "execution_count": 22,
   "metadata": {
    "collapsed": false
   },
   "outputs": [],
   "source": [
    "def process_collection(coll, matrix, granularity = \"year\"):\n",
    "    fails = 0\n",
    "    processed = 0\n",
    "    year_level = granularity == \"year\"\n",
    "    for doc in coll.find():\n",
    "        processed += 1\n",
    "        print \"\\r\" + str(processed),\n",
    "        try:\n",
    "            data = process_document(doc)\n",
    "            if year_level:\n",
    "                k = data[\"year\"]\n",
    "            else:\n",
    "                k = str(data[\"year\"]) + \"-\" + str(data[\"month\"])\n",
    "            for word in data[\"content\"]:# + data[\"title\"]:\n",
    "                matrix[data[\"year\"]][word] += 1\n",
    "        except:\n",
    "            fails += 1\n",
    "    print fails\n",
    "    return matrix"
   ]
  },
  {
   "cell_type": "code",
   "execution_count": 23,
   "metadata": {
    "collapsed": false
   },
   "outputs": [
    {
     "name": "stdout",
     "output_type": "stream",
     "text": [
      "55990 511\n"
     ]
    }
   ],
   "source": [
    "full_matrix = process_collection(c, year_word_matrix)"
   ]
  },
  {
   "cell_type": "code",
   "execution_count": 24,
   "metadata": {
    "collapsed": false
   },
   "outputs": [
    {
     "data": {
      "text/plain": [
       "2073265"
      ]
     },
     "execution_count": 24,
     "metadata": {},
     "output_type": "execute_result"
    }
   ],
   "source": [
    "len(full_matrix[1900]) # bad."
   ]
  },
  {
   "cell_type": "code",
   "execution_count": 25,
   "metadata": {
    "collapsed": true
   },
   "outputs": [],
   "source": [
    "def cleanup_matrix(mat):\n",
    "    return {y:{w:c for w, c in mat[y].iteritems() if c > 1} for y in mat.iterkeys()}\n",
    "\n",
    "def invert_keys(mat):\n",
    "    flipped_dict = defaultdict(dict)\n",
    "    for k1 in mat.iterkeys():\n",
    "        for k2, v in mat[k1].iteritems():\n",
    "            flipped_dict[k2][k1] = v\n",
    "    return dict(flipped_dict)"
   ]
  },
  {
   "cell_type": "code",
   "execution_count": 26,
   "metadata": {
    "collapsed": false
   },
   "outputs": [],
   "source": [
    "clean_matrix = invert_keys(cleanup_matrix(full_matrix))"
   ]
  },
  {
   "cell_type": "code",
   "execution_count": 27,
   "metadata": {
    "collapsed": false
   },
   "outputs": [
    {
     "data": {
      "text/plain": [
       "{1854: 3,\n",
       " 1855: 2,\n",
       " 1856: 3,\n",
       " 1858: 3,\n",
       " 1859: 10,\n",
       " 1860: 61,\n",
       " 1861: 30,\n",
       " 1862: 5,\n",
       " 1863: 9,\n",
       " 1864: 3,\n",
       " 1865: 3,\n",
       " 1866: 17,\n",
       " 1867: 3,\n",
       " 1869: 4,\n",
       " 1870: 3,\n",
       " 1871: 24,\n",
       " 1872: 29,\n",
       " 1877: 4,\n",
       " 1879: 4,\n",
       " 1880: 4,\n",
       " 1881: 6,\n",
       " 1882: 3,\n",
       " 1883: 2,\n",
       " 1884: 5,\n",
       " 1885: 82,\n",
       " 1886: 63,\n",
       " 1887: 66,\n",
       " 1888: 51,\n",
       " 1889: 55,\n",
       " 1890: 101,\n",
       " 1891: 69,\n",
       " 1892: 85,\n",
       " 1893: 129,\n",
       " 1894: 96,\n",
       " 1895: 77,\n",
       " 1896: 127,\n",
       " 1897: 213,\n",
       " 1898: 242,\n",
       " 1899: 316,\n",
       " 1900: 475,\n",
       " 1901: 618,\n",
       " 1902: 375,\n",
       " 1903: 366,\n",
       " 1904: 263,\n",
       " 1905: 327,\n",
       " 1906: 328,\n",
       " 1907: 452,\n",
       " 1908: 381,\n",
       " 1909: 481,\n",
       " 1910: 342,\n",
       " 1911: 290,\n",
       " 1912: 212,\n",
       " 1913: 274,\n",
       " 1914: 182,\n",
       " 1915: 170,\n",
       " 1916: 75,\n",
       " 1917: 44,\n",
       " 1918: 38,\n",
       " 1919: 93,\n",
       " 1920: 99,\n",
       " 1921: 82,\n",
       " 1922: 87}"
      ]
     },
     "execution_count": 27,
     "metadata": {},
     "output_type": "execute_result"
    }
   ],
   "source": [
    "clean_matrix[\"negro\"] # good."
   ]
  },
  {
   "cell_type": "code",
   "execution_count": null,
   "metadata": {
    "collapsed": false
   },
   "outputs": [],
   "source": [
    "# don't do this unless you have 10 minutes to wait\n",
    "# pickle.dump(dict(full_matrix), open(\"full_word_cooccurences.pickle\",\"w\"), protocol=2) # 500 MB"
   ]
  },
  {
   "cell_type": "code",
   "execution_count": 28,
   "metadata": {
    "collapsed": true
   },
   "outputs": [],
   "source": [
    "# this is better \n",
    "pickle.dump(clean_matrix, open(\"cleaned_word_cooccurences.pickle\",\"w\"), protocol=2) # 50 MB"
   ]
  },
  {
   "cell_type": "markdown",
   "metadata": {},
   "source": [
    "##TODO\n",
    "\n",
    "1. Add \"base level\" co-occurrence stats from 1000 random articles (need to modify data load script)\n",
    "\n",
    "2. Add visualization or data dump to .csv"
   ]
  },
  {
   "cell_type": "code",
   "execution_count": 3,
   "metadata": {
    "collapsed": false
   },
   "outputs": [],
   "source": [
    "clean_matrix = pickle.load(open(\"cleaned_word_cooccurences.pickle\"))"
   ]
  },
  {
   "cell_type": "code",
   "execution_count": 6,
   "metadata": {
    "collapsed": false
   },
   "outputs": [],
   "source": [
    "yearly_cocaine_counts = defaultdict()\n",
    "articles_by_year = Counter([x[\"date\"].year for x in c.find({},{\"date\":1,\"_id\":0})])"
   ]
  },
  {
   "cell_type": "code",
   "execution_count": 29,
   "metadata": {
    "collapsed": false
   },
   "outputs": [],
   "source": [
    "ratio_matrix = {word:{year: float(count) / articles_by_year[year] for year, count in clean_matrix[word].iteritems()} for word in clean_matrix.iterkeys()}"
   ]
  },
  {
   "cell_type": "code",
   "execution_count": 33,
   "metadata": {
    "collapsed": false
   },
   "outputs": [
    {
     "data": {
      "text/plain": [
       "{1859: 0.06451612903225806,\n",
       " 1860: 0.022556390977443608,\n",
       " 1861: 0.10714285714285714,\n",
       " 1863: 0.12,\n",
       " 1864: 0.05263157894736842,\n",
       " 1866: 0.039603960396039604,\n",
       " 1867: 0.18181818181818182,\n",
       " 1869: 0.08,\n",
       " 1871: 0.3137254901960784,\n",
       " 1872: 0.2,\n",
       " 1881: 0.1568627450980392,\n",
       " 1882: 0.20689655172413793,\n",
       " 1884: 0.05128205128205128,\n",
       " 1885: 0.10894941634241245,\n",
       " 1886: 0.127208480565371,\n",
       " 1887: 0.12020033388981637,\n",
       " 1888: 0.11049723756906077,\n",
       " 1889: 0.10509554140127389,\n",
       " 1890: 0.05847953216374269,\n",
       " 1891: 0.1580547112462006,\n",
       " 1892: 0.11096938775510204,\n",
       " 1893: 0.09414758269720101,\n",
       " 1894: 0.10027598896044158,\n",
       " 1895: 0.08975834292289989,\n",
       " 1896: 0.10526315789473684,\n",
       " 1897: 0.09338747099767981,\n",
       " 1898: 0.09435846230654019,\n",
       " 1899: 0.11055276381909548,\n",
       " 1900: 0.07569825110937092,\n",
       " 1901: 0.06829372725326482,\n",
       " 1902: 0.08723958333333333,\n",
       " 1903: 0.06688358640636298,\n",
       " 1904: 0.07288790723357261,\n",
       " 1905: 0.06598182536546819,\n",
       " 1906: 0.075790385448246,\n",
       " 1907: 0.07486388384754991,\n",
       " 1908: 0.0782552918537524,\n",
       " 1909: 0.08607714016933207,\n",
       " 1910: 0.07744565217391304,\n",
       " 1911: 0.08628571428571429,\n",
       " 1912: 0.08240396530359356,\n",
       " 1913: 0.0899234693877551,\n",
       " 1914: 0.12376237623762376,\n",
       " 1915: 0.10418375717801477,\n",
       " 1916: 0.07871720116618076,\n",
       " 1917: 0.06561679790026247,\n",
       " 1918: 0.06191950464396285,\n",
       " 1919: 0.06666666666666667,\n",
       " 1920: 0.06521739130434782,\n",
       " 1921: 0.08288288288288288,\n",
       " 1922: 0.07105719237435008}"
      ]
     },
     "execution_count": 33,
     "metadata": {},
     "output_type": "execute_result"
    }
   ],
   "source": [
    "ratio_matrix[\"assault\"]"
   ]
  },
  {
   "cell_type": "code",
   "execution_count": 31,
   "metadata": {
    "collapsed": false
   },
   "outputs": [
    {
     "data": {
      "text/plain": [
       "7"
      ]
     },
     "execution_count": 31,
     "metadata": {},
     "output_type": "execute_result"
    }
   ],
   "source": [
    "articles_by_year[1880]"
   ]
  },
  {
   "cell_type": "code",
   "execution_count": 32,
   "metadata": {
    "collapsed": false
   },
   "outputs": [
    {
     "data": {
      "text/plain": [
       "4"
      ]
     },
     "execution_count": 32,
     "metadata": {},
     "output_type": "execute_result"
    }
   ],
   "source": [
    "clean_matrix[\"negro\"][1880]"
   ]
  },
  {
   "cell_type": "code",
   "execution_count": 35,
   "metadata": {
    "collapsed": false
   },
   "outputs": [
    {
     "name": "stdout",
     "output_type": "stream",
     "text": [
      "(1836, 1)\n",
      "(1841, 1)\n",
      "(1842, 1)\n",
      "(1844, 4)\n",
      "(1845, 3)\n",
      "(1846, 1)\n",
      "(1849, 1)\n",
      "(1850, 1)\n",
      "(1851, 2)\n",
      "(1852, 4)\n",
      "(1853, 2)\n",
      "(1854, 3)\n",
      "(1855, 5)\n",
      "(1856, 6)\n",
      "(1857, 5)\n",
      "(1858, 26)\n",
      "(1859, 31)\n",
      "(1860, 133)\n",
      "(1861, 56)\n",
      "(1862, 18)\n",
      "(1863, 25)\n",
      "(1864, 38)\n",
      "(1865, 6)\n",
      "(1866, 101)\n",
      "(1867, 22)\n",
      "(1868, 3)\n",
      "(1869, 25)\n",
      "(1870, 21)\n",
      "(1871, 51)\n",
      "(1872, 50)\n",
      "(1873, 8)\n",
      "(1874, 10)\n",
      "(1875, 6)\n",
      "(1876, 6)\n",
      "(1877, 15)\n",
      "(1878, 5)\n",
      "(1879, 8)\n",
      "(1880, 7)\n",
      "(1881, 51)\n",
      "(1882, 29)\n",
      "(1883, 11)\n",
      "(1884, 39)\n",
      "(1885, 514)\n",
      "(1886, 566)\n",
      "(1887, 599)\n",
      "(1888, 362)\n",
      "(1889, 314)\n",
      "(1890, 684)\n",
      "(1891, 658)\n",
      "(1892, 784)\n",
      "(1893, 1179)\n",
      "(1894, 1087)\n",
      "(1895, 869)\n",
      "(1896, 836)\n",
      "(1897, 1724)\n",
      "(1898, 2003)\n",
      "(1899, 2587)\n",
      "(1900, 3831)\n",
      "(1901, 4671)\n",
      "(1902, 3072)\n",
      "(1903, 2766)\n",
      "(1904, 1811)\n",
      "(1905, 2531)\n",
      "(1906, 2309)\n",
      "(1907, 2204)\n",
      "(1908, 1559)\n",
      "(1909, 2126)\n",
      "(1910, 2208)\n",
      "(1911, 1750)\n",
      "(1912, 1614)\n",
      "(1913, 1568)\n",
      "(1914, 1212)\n",
      "(1915, 1219)\n",
      "(1916, 686)\n",
      "(1917, 381)\n",
      "(1918, 323)\n",
      "(1919, 720)\n",
      "(1920, 690)\n",
      "(1921, 555)\n",
      "(1922, 577)\n"
     ]
    }
   ],
   "source": [
    "years = articles_by_year.items()\n",
    "years.sort()\n",
    "for y in years: print y"
   ]
  },
  {
   "cell_type": "code",
   "execution_count": null,
   "metadata": {
    "collapsed": true
   },
   "outputs": [],
   "source": []
  }
 ],
 "metadata": {
  "kernelspec": {
   "display_name": "Python 2",
   "language": "python",
   "name": "python2"
  },
  "language_info": {
   "codemirror_mode": {
    "name": "ipython",
    "version": 2
   },
   "file_extension": ".py",
   "mimetype": "text/x-python",
   "name": "python",
   "nbconvert_exporter": "python",
   "pygments_lexer": "ipython2",
   "version": "2.7.9"
  }
 },
 "nbformat": 4,
 "nbformat_minor": 0
}
