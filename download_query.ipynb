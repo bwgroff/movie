{
 "cells": [
  {
   "cell_type": "code",
   "execution_count": null,
   "metadata": {
    "collapsed": true
   },
   "outputs": [],
   "source": [
    "import requests\n",
    "import pymongo\n",
    "from datetime import datetime\n",
    "import multiprocessing"
   ]
  },
  {
   "cell_type": "code",
   "execution_count": 31,
   "metadata": {
    "collapsed": false
   },
   "outputs": [],
   "source": [
    "cocaine_db = pymongo.MongoClient().movie.cocaine2 # don't want to overwrite the last batch...\n",
    "cocaine_db.create_index(\"date\")\n",
    "cocaine_db.create_index(\"state\")\n",
    "\n",
    "background_db = pymongo.MongoClient().movie.background\n",
    "cocaine_db.create_index(\"date\")"
   ]
  },
  {
   "cell_type": "code",
   "execution_count": null,
   "metadata": {
    "collapsed": true
   },
   "outputs": [],
   "source": [
    "def insert_results(data, db):\n",
    "    for cocaine_mention in data[\"items\"]:\n",
    "        _date = cocaine_mention[\"date\"]\n",
    "        cocaine_mention[\"date\"] = datetime(int(_date[:4]), int(_date[4:6]), int(_date[6:]))\n",
    "        db.insert(cocaine_mention)"
   ]
  },
  {
   "cell_type": "code",
   "execution_count": null,
   "metadata": {
    "collapsed": true
   },
   "outputs": [],
   "source": [
    "def download_firstn_results(n, initial_page=1, base_url=cocaine_url, db=cocaine_db):\n",
    "    n = min(n, 56145)\n",
    "    this_page = initial_page\n",
    "    end_index = 0\n",
    "    while end_index < n:\n",
    "        try:\n",
    "            response = requests.get(base_url + str(this_page)).json()\n",
    "            insert_results(response, db)\n",
    "        except:\n",
    "            print \"Error processing results on page \" + str(this_page) + \". Last end_index is \" + str(end_index)+\".\"\n",
    "        this_page += 1\n",
    "        end_index = response[\"endIndex\"]"
   ]
  },
  {
   "cell_type": "code",
   "execution_count": 32,
   "metadata": {
    "collapsed": false
   },
   "outputs": [
    {
     "name": "stdout",
     "output_type": "stream",
     "text": [
      "Error processing results on page 916. Last end_index is 18300.\n",
      "Error processing results on page 1429. Last end_index is 28560.\n",
      "Error processing results on page 2080. Last end_index is 41580.\n",
      "Error processing results on page 2309. Last end_index is 46160.\n",
      "Error processing results on page 2616. Last end_index is 52300.\n",
      "Error processing results on page 2798. Last end_index is 55940.\n",
      "9757.79236388\n"
     ]
    }
   ],
   "source": [
    "cocaine_url = \"http://chroniclingamerica.loc.gov/search/pages/results/?andtext=cocaine&format=json&page=\"\n",
    "_t = time.time()\n",
    "# download_firstn_results(99999999, base_url=cocaine_url, db=cocaine_db) # careful running this, will take forever.\n",
    "print time.time() - _t"
   ]
  },
  {
   "cell_type": "code",
   "execution_count": null,
   "metadata": {
    "collapsed": true
   },
   "outputs": [],
   "source": [
    "date_url = \"http://chroniclingamerica.loc.gov/search/pages/results/?date1={year}&date2={year}&dateFilterType=yearRange&format=json&page=\"\n",
    "\n",
    "available_years = range(1836,1923)\n",
    "\n",
    "func = lambda y: download_firstn_results(1000, base_url=date_url.format(year=y), db=background_db)\n",
    "p = multiprocessing.Pool(5)  # increase if needed, beware diminishing returns\n",
    "p.map(func, available_years)"
   ]
  }
 ],
 "metadata": {
  "kernelspec": {
   "display_name": "Python 2",
   "language": "python",
   "name": "python2"
  },
  "language_info": {
   "codemirror_mode": {
    "name": "ipython",
    "version": 2
   },
   "file_extension": ".py",
   "mimetype": "text/x-python",
   "name": "python",
   "nbconvert_exporter": "python",
   "pygments_lexer": "ipython2",
   "version": "2.7.9"
  }
 },
 "nbformat": 4,
 "nbformat_minor": 0
}
